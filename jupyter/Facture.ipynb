{
 "cells": [
  {
   "cell_type": "code",
   "execution_count": 6,
   "id": "20ba47a4",
   "metadata": {},
   "outputs": [
    {
     "name": "stdout",
     "output_type": "stream",
     "text": [
      "Collecting PyPDF2\n",
      "  Downloading pypdf2-3.0.1-py3-none-any.whl (232 kB)\n",
      "     ---------------------------------------- 0.0/232.6 kB ? eta -:--:--\n",
      "     ---------------------------------------- 0.0/232.6 kB ? eta -:--:--\n",
      "     ---- -------------------------------- 30.7/232.6 kB 660.6 kB/s eta 0:00:01\n",
      "     ---- -------------------------------- 30.7/232.6 kB 660.6 kB/s eta 0:00:01\n",
      "     --------- --------------------------- 61.4/232.6 kB 409.6 kB/s eta 0:00:01\n",
      "     -------------- ---------------------- 92.2/232.6 kB 435.7 kB/s eta 0:00:01\n",
      "     ------------------- ---------------- 122.9/232.6 kB 514.3 kB/s eta 0:00:01\n",
      "     ------------------------- ---------- 163.8/232.6 kB 546.6 kB/s eta 0:00:01\n",
      "     -------------------------- --------- 174.1/232.6 kB 523.5 kB/s eta 0:00:01\n",
      "     ------------------------------- ---- 204.8/232.6 kB 541.9 kB/s eta 0:00:01\n",
      "     ---------------------------------- - 225.3/232.6 kB 550.0 kB/s eta 0:00:01\n",
      "     ------------------------------------ 232.6/232.6 kB 507.6 kB/s eta 0:00:00\n",
      "Installing collected packages: PyPDF2\n",
      "Successfully installed PyPDF2-3.0.1\n",
      "Note: you may need to restart the kernel to use updated packages.\n"
     ]
    }
   ],
   "source": [
    "pip install PyPDF2"
   ]
  },
  {
   "cell_type": "code",
   "execution_count": 8,
   "id": "fa2f3e04",
   "metadata": {},
   "outputs": [
    {
     "name": "stdout",
     "output_type": "stream",
     "text": [
      "Texte extrait du PDF :\n",
      " Date  \n",
      "Numéro de Facture  \n",
      "     Logo                                                                                                                                     \n",
      " \n",
      " \n",
      "Nom de l’entreprise                                                                                Nom du client  \n",
      "Adresse                                                                                                                        Adresse  \n",
      "Code Postal et Ville                                                                                                    Code Postal et Ville  \n",
      "Numéro de téléphone                                                                                               Numéro de téléphone  \n",
      "Ema il                                                                                                                            Email  \n",
      " \n",
      " \n",
      "Objet  : intitulé  \n",
      " \n",
      " \n",
      " \n",
      " \n",
      " \n",
      " \n",
      " \n",
      " \n",
      " \n",
      " \n",
      " \n",
      " \n",
      " \n",
      "La loi n°92/1442 du 31 décembre 1992 nous fait l’obligation de vous indiquer que le non -respect des conditions de paiement entraine des intérêts de \n",
      "retard suivant modalités et taux défini par la loi. Une indemnité forfaitaire de 40€ sera due pour frais de recouvrement en c as de retard de paiement.  \n",
      " \n",
      "Mode de règlement  :  \n",
      "Conditions de règlement  : \n",
      "Date limite de règlement  : \n",
      " \n",
      " \n",
      " Description  Unité  Quantité  Prix Unitaire HT  TVA Total HT  \n",
      "Licence KPulse pour 1 utilisateur   1 39.90 €  20 %  39.90 €  \n",
      "      \n",
      "      \n",
      "      \n",
      "      \n",
      "      \n",
      "      \n",
      "Montant Total HT   \n",
      "Remise HT   \n",
      "Total Net HT   \n",
      "Total TVA   \n",
      "Montant Total TTC   \n",
      "Montant déjà versé   \n",
      "Reste à payer   \n",
      "Nom de l’entreprise et adresse  \n"
     ]
    }
   ],
   "source": [
    "import PyPDF2\n",
    "\n",
    "def extract_text_from_pdf(pdf_path):\n",
    "    try:\n",
    "        # Ouverture du fichier PDF en mode binaire\n",
    "        with open(pdf_path, 'rb') as file:\n",
    "            # Création d'un objet de lecture PDF\n",
    "            pdf_reader = PyPDF2.PdfReader(file)\n",
    "            \n",
    "            # Initialisation du texte extrait\n",
    "            text = \"\"\n",
    "            \n",
    "            # Parcours de chaque page du PDF\n",
    "            for page_num in range(len(pdf_reader.pages)):\n",
    "                # Récupération de la page courante\n",
    "                page = pdf_reader.pages[page_num]\n",
    "                \n",
    "                # Extraction du texte de la page\n",
    "                text += page.extract_text()\n",
    "            \n",
    "            return text\n",
    "        \n",
    "    except Exception as e:\n",
    "        print(f\"Une erreur s'est produite : {str(e)}\")\n",
    "        return None\n",
    "\n",
    "\n",
    "pdf_path = r\"C:\\Users\\Rania\\Desktop\\facture.pdf\"\n",
    "text_from_pdf = extract_text_from_pdf(pdf_path)\n",
    "\n",
    "if text_from_pdf:\n",
    "    print(\"Texte extrait du PDF :\\n\", text_from_pdf)\n"
   ]
  },
  {
   "cell_type": "code",
   "execution_count": 6,
   "id": "997466e9",
   "metadata": {},
   "outputs": [],
   "source": []
  },
  {
   "cell_type": "code",
   "execution_count": null,
   "id": "4ad134e5",
   "metadata": {},
   "outputs": [],
   "source": []
  },
  {
   "cell_type": "code",
   "execution_count": null,
   "id": "d3881dc2",
   "metadata": {},
   "outputs": [],
   "source": []
  },
  {
   "cell_type": "code",
   "execution_count": null,
   "id": "cecc5e52",
   "metadata": {},
   "outputs": [],
   "source": []
  }
 ],
 "metadata": {
  "kernelspec": {
   "display_name": "Python 3 (ipykernel)",
   "language": "python",
   "name": "python3"
  },
  "language_info": {
   "codemirror_mode": {
    "name": "ipython",
    "version": 3
   },
   "file_extension": ".py",
   "mimetype": "text/x-python",
   "name": "python",
   "nbconvert_exporter": "python",
   "pygments_lexer": "ipython3",
   "version": "3.11.5"
  }
 },
 "nbformat": 4,
 "nbformat_minor": 5
}
